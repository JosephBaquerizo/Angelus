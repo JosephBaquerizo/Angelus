{
  "nbformat": 4,
  "nbformat_minor": 0,
  "metadata": {
    "colab": {
      "name": "SiameseNeuralNetwork.ipynb",
      "provenance": [],
      "collapsed_sections": [],
      "authorship_tag": "ABX9TyODxMdq/LngSzMi/rj7TqLG",
      "include_colab_link": true
    },
    "kernelspec": {
      "name": "python3",
      "display_name": "Python 3"
    }
  },
  "cells": [
    {
      "cell_type": "markdown",
      "metadata": {
        "id": "view-in-github",
        "colab_type": "text"
      },
      "source": [
        "<a href=\"https://colab.research.google.com/github/JosephBaquerizo/Angelus/blob/main/SiameseNeuralNetwork.ipynb\" target=\"_parent\"><img src=\"https://colab.research.google.com/assets/colab-badge.svg\" alt=\"Open In Colab\"/></a>"
      ]
    },
    {
      "cell_type": "markdown",
      "metadata": {
        "id": "jYkF-OzDWRXU"
      },
      "source": [
        "# Siamese Neural Network (SNN) con TensorFlow\r\n",
        "La SNN es una red neuronal cuyo propósito es determinar si los inputs poseen una similitud o no. Generalmente, cada uno de estos inputs pasa por un modelo que posee los mismos hiperparámetros, pesos, etc (o sea dos modelos que son iguales). Luego de pasar por dichos modelos, cada uno saca un output y estas salidas son comparadas por medio de una capa que determina la diferencia absoluta. Finalmente, en la última capa se tiene la función de activación sigmoide, la cual encapsula este valor de diferencia en una cantidad numérica entre 0 y 1 para así determinar si son similares o no."
      ]
    },
    {
      "cell_type": "code",
      "metadata": {
        "id": "upIWXZ-9g9Ch"
      },
      "source": [
        ""
      ],
      "execution_count": null,
      "outputs": []
    }
  ]
}